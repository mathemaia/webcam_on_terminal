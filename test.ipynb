{
 "cells": [
  {
   "cell_type": "code",
   "execution_count": 4,
   "metadata": {},
   "outputs": [],
   "source": [
    "import tkinter as tk\n",
    "import numpy as np\n",
    "import time\n",
    "from image_conversor import convert_image\n",
    "import cv2\n",
    "\n",
    "\n",
    "'''  .+:*=40&@  '''\n",
    "\n",
    "# Função para formatar a matriz como uma string de matriz\n",
    "def format_matrix(matrix):\n",
    "    return '\\n'.join([' '.join(row) for row in matrix])\n",
    "\n",
    "# Captura da câmera\n",
    "cap = cv2.VideoCapture(0)\n",
    "\n",
    "length = 5\n",
    "\n",
    "# Verificar se a câmera foi aberta corretamente\n",
    "if not cap.isOpened():\n",
    "    print(\"Erro ao abrir a câmera.\")\n",
    "    cap.release()\n",
    "    exit()\n",
    "\n",
    "# Criar a janela do tkinter\n",
    "root = tk.Tk()\n",
    "root.title(\"Vídeo ASCII\")\n",
    "root.configure(bg=\"black\")  # Definir o background para preto\n",
    "\n",
    "# Criar um rótulo para exibir as matrizes na janela com fonte menor\n",
    "label = tk.Label(root, text=\"\", font=(\"Courier New\", 10), bg=\"black\", fg=\"#777777\")\n",
    "label.pack()\n",
    "\n",
    "# Função para capturar cada frame da câmera e atualizar o rótulo com a matriz convertida em ASCII\n",
    "def update_frame():\n",
    "    while True:\n",
    "        ret, frame = cap.read()\n",
    "\n",
    "        if not ret:  # Verifica se a captura falhou ou o vídeo acabou\n",
    "            break\n",
    "        frame = convert_image(frame, length)\n",
    "        formatted_matrix = format_matrix(frame)\n",
    "\n",
    "        try:\n",
    "            if root.winfo_exists():  # Verifica se a janela ainda está aberta\n",
    "                label.config(text=formatted_matrix)\n",
    "                root.update()\n",
    "        except tk.TclError:\n",
    "            break\n",
    "\n",
    "# Chamar a função para exibir o vídeo da câmera em ASCII\n",
    "update_frame()\n",
    "\n",
    "cap.release()  # Liberar a captura da câmera após fechar a janela\n",
    "\n",
    "root.mainloop()\n"
   ]
  },
  {
   "cell_type": "markdown",
   "metadata": {},
   "source": [
    "#\n",
    "# Transform an image into asc ii .png"
   ]
  },
  {
   "cell_type": "code",
   "execution_count": 3,
   "metadata": {},
   "outputs": [
    {
     "name": "stdout",
     "output_type": "stream",
     "text": [
      "111\n"
     ]
    },
    {
     "name": "stderr",
     "output_type": "stream",
     "text": [
      "/tmp/ipykernel_12705/3236663050.py:22: DeprecationWarning: getsize is deprecated and will be removed in Pillow 10 (2023-07-01). Use getbbox or getlength instead.\n",
      "  cell_width, cell_height = font.getsize(\"X\")  # Tamanho exato de cada caractere\n"
     ]
    }
   ],
   "source": [
    "from PIL import Image, ImageDraw, ImageFont\n",
    "import cv2\n",
    "from image_conversor import convert_image\n",
    "\n",
    "'''  .:*+=40&@ '''\n",
    "\n",
    "# Carregar a imagem de exemplo (substitua pelo seu vídeo)\n",
    "image = cv2.imread('./data/kiss.jpg')\n",
    "\n",
    "# Função para formatar a matriz como uma string de matriz\n",
    "def format_matrix(matrix):\n",
    "    return '\\n'.join([' '.join(row) for row in matrix])\n",
    "\n",
    "# Definir o comprimento da fonte\n",
    "length = 5\n",
    "\n",
    "additional_value = round(((-40/3) * length) + (533/3))\n",
    "print(additional_value)\n",
    "\n",
    "# Função para extrair o conteúdo da label como uma imagem e salvar em um arquivo PNG\n",
    "def extract_image(image, formatted_text):\n",
    "    rows = len(image) \n",
    "    cols = len(image[0]) + additional_value\n",
    "    cell_width, cell_height = font.getsize(\"X\")  # Tamanho exato de cada caractere\n",
    "\n",
    "    # Adicionar espaço extra entre as linhas\n",
    "    line_spacing = 1\n",
    "\n",
    "    width = cols * cell_width - 10 # Largura da imagem\n",
    "    height = rows * (cell_height + line_spacing)  # Altura da imagem com espaço extra\n",
    "    image = Image.new(\"RGB\", (width, height), color=\"black\")\n",
    "    draw = ImageDraw.Draw(image)\n",
    "\n",
    "    # Desenhar o texto com espaço extra entre as linhas\n",
    "    y = 0\n",
    "    for line in formatted_text.split('\\n'):\n",
    "        draw.text((0, y), line, fill=\"white\", font=font)\n",
    "        y += cell_height + line_spacing\n",
    "\n",
    "    image.save(\"output.png\")\n",
    "\n",
    "\n",
    "\n",
    "# Converter o frame para a matriz ASCII\n",
    "converted_image = convert_image(image, length)\n",
    "formatted_matrix = format_matrix(converted_image)\n",
    "\n",
    "# Utilizar a fonte padrão do PIL (fonte monoespaçada)\n",
    "font = ImageFont.load_default()\n",
    "\n",
    "# Chamar a função para extrair a imagem automaticamente\n",
    "extract_image(converted_image, formatted_matrix)\n"
   ]
  },
  {
   "cell_type": "code",
   "execution_count": null,
   "metadata": {},
   "outputs": [],
   "source": []
  }
 ],
 "metadata": {
  "kernelspec": {
   "display_name": "machinelearning",
   "language": "python",
   "name": "python3"
  },
  "language_info": {
   "codemirror_mode": {
    "name": "ipython",
    "version": 3
   },
   "file_extension": ".py",
   "mimetype": "text/x-python",
   "name": "python",
   "nbconvert_exporter": "python",
   "pygments_lexer": "ipython3",
   "version": "3.11.4"
  },
  "orig_nbformat": 4
 },
 "nbformat": 4,
 "nbformat_minor": 2
}
